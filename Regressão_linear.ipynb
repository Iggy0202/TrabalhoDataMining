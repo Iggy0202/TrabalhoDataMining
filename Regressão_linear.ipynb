{
  "nbformat": 4,
  "nbformat_minor": 0,
  "metadata": {
    "colab": {
      "provenance": [],
      "collapsed_sections": [
        "mO_N_1AY8fzc",
        "YwvoTaxo9y7C"
      ]
    },
    "kernelspec": {
      "name": "python3",
      "display_name": "Python 3"
    },
    "language_info": {
      "name": "python"
    }
  },
  "cells": [
    {
      "cell_type": "markdown",
      "source": [
        "## Dados do Projeto"
      ],
      "metadata": {
        "id": "c3KqwoCk1Ckx"
      }
    },
    {
      "cell_type": "code",
      "source": [
        "# importando as bibliotecas\n",
        "import pandas as pd\n",
        "import matplotlib.pyplot as plt\n",
        "import seaborn as sns\n",
        "import numpy as np\n"
      ],
      "metadata": {
        "id": "3HE0psHE0uSB"
      },
      "execution_count": 3,
      "outputs": []
    },
    {
      "cell_type": "code",
      "source": [
        "# visualizando o dataset\n",
        "\n",
        "dados = pd.read_csv('/content/precos_medicamentos.csv')\n",
        "dados.head()"
      ],
      "metadata": {
        "colab": {
          "base_uri": "https://localhost:8080/",
          "height": 577
        },
        "id": "ZduI64O51I8Y",
        "outputId": "87dabf1a-7d35-4fae-9427-15fa7ce50bb5"
      },
      "execution_count": 4,
      "outputs": [
        {
          "output_type": "execute_result",
          "data": {
            "text/plain": [
              "   Unnamed: 0                                         SUBSTÂNCIA  \\\n",
              "0           0  SALICILATO DE FENILA;ÁCIDO SALICÍLICO;ÓXIDO DE...   \n",
              "1           1                   DIENOGESTE;VALERATO DE ESTRADIOL   \n",
              "2           2             HIDROCLOROTIAZIDA;MALEATO DE ENALAPRIL   \n",
              "3           3             HIDROCLOROTIAZIDA;MALEATO DE ENALAPRIL   \n",
              "4           4                                       MONTELUCASTE   \n",
              "\n",
              "                 CNPJ                                     LABORATÓRIO  \\\n",
              "0  33.379.884/0001-96                        LABORATORIO SIMOES LTDA.   \n",
              "1  56.990.534/0001-67  SCHERING DO BRASIL QUÍMICA E FARMACÊUTICA LTDA   \n",
              "2  45.987.013/0001-34                      ORGANON FARMACÊUTICA LTDA.   \n",
              "3  45.987.013/0001-34                      ORGANON FARMACÊUTICA LTDA.   \n",
              "4  45.987.013/0001-34                      ORGANON FARMACÊUTICA LTDA.   \n",
              "\n",
              "  CÓDIGO GGREM     REGISTRO        EAN 1       EAN 2       EAN 3  \\\n",
              "0  5,20501E+14  57600510011  7,89621E+12      -           -        \n",
              "1  5,30917E+14    1,002E+12  7,89612E+12      -           -        \n",
              "2    5,255E+14   1,0029E+12  7,89734E+12      -           -        \n",
              "3    5,255E+14   1,0029E+12  7,89734E+12      -           -        \n",
              "4  5,25502E+14   1,0029E+12  7,89734E+12      -           -        \n",
              "\n",
              "        PRODUTO  ... PMC 18% ALC PMC 20% RESTRIÇÃO HOSPITALAR  CAP  CONFAZ 87  \\\n",
              "0  TALCO ALÍVIO  ...         NaN     NaN                  Não  Não        Não   \n",
              "1     CHARMELIE  ...         NaN     NaN                  Não  Não        Não   \n",
              "2    CO-RENITEC  ...         NaN     NaN                  Não  Não        Não   \n",
              "3    CO-RENITEC  ...         NaN     NaN                  Não  Não        Não   \n",
              "4     SINGULAIR  ...         NaN     NaN                  Não  Não        Não   \n",
              "\n",
              "   ICMS 0%  ANÁLISE RECURSAL  \\\n",
              "0      Não               NaN   \n",
              "1      Não               NaN   \n",
              "2      Não               NaN   \n",
              "3      Não               NaN   \n",
              "4      Não               NaN   \n",
              "\n",
              "   LISTA DE CONCESSÃO DE CRÉDITO TRIBUTÁRIO (PIS/COFINS)  \\\n",
              "0                                           Negativa       \n",
              "1                                           Negativa       \n",
              "2                                           Positiva       \n",
              "3                                           Positiva       \n",
              "4                                           Positiva       \n",
              "\n",
              "   COMERCIALIZAÇÃO 2020              TARJA  \n",
              "0                   Não  Tarja Venda Livre  \n",
              "1                   Não    Tarja  Vermelha  \n",
              "2                   Não                NaN  \n",
              "3                   Não                NaN  \n",
              "4                   Sim                NaN  \n",
              "\n",
              "[5 rows x 41 columns]"
            ],
            "text/html": [
              "\n",
              "  <div id=\"df-c300a283-ef19-4900-a521-8e2394989829\">\n",
              "    <div class=\"colab-df-container\">\n",
              "      <div>\n",
              "<style scoped>\n",
              "    .dataframe tbody tr th:only-of-type {\n",
              "        vertical-align: middle;\n",
              "    }\n",
              "\n",
              "    .dataframe tbody tr th {\n",
              "        vertical-align: top;\n",
              "    }\n",
              "\n",
              "    .dataframe thead th {\n",
              "        text-align: right;\n",
              "    }\n",
              "</style>\n",
              "<table border=\"1\" class=\"dataframe\">\n",
              "  <thead>\n",
              "    <tr style=\"text-align: right;\">\n",
              "      <th></th>\n",
              "      <th>Unnamed: 0</th>\n",
              "      <th>SUBSTÂNCIA</th>\n",
              "      <th>CNPJ</th>\n",
              "      <th>LABORATÓRIO</th>\n",
              "      <th>CÓDIGO GGREM</th>\n",
              "      <th>REGISTRO</th>\n",
              "      <th>EAN 1</th>\n",
              "      <th>EAN 2</th>\n",
              "      <th>EAN 3</th>\n",
              "      <th>PRODUTO</th>\n",
              "      <th>...</th>\n",
              "      <th>PMC 18% ALC</th>\n",
              "      <th>PMC 20%</th>\n",
              "      <th>RESTRIÇÃO HOSPITALAR</th>\n",
              "      <th>CAP</th>\n",
              "      <th>CONFAZ 87</th>\n",
              "      <th>ICMS 0%</th>\n",
              "      <th>ANÁLISE RECURSAL</th>\n",
              "      <th>LISTA DE CONCESSÃO DE CRÉDITO TRIBUTÁRIO (PIS/COFINS)</th>\n",
              "      <th>COMERCIALIZAÇÃO 2020</th>\n",
              "      <th>TARJA</th>\n",
              "    </tr>\n",
              "  </thead>\n",
              "  <tbody>\n",
              "    <tr>\n",
              "      <th>0</th>\n",
              "      <td>0</td>\n",
              "      <td>SALICILATO DE FENILA;ÁCIDO SALICÍLICO;ÓXIDO DE...</td>\n",
              "      <td>33.379.884/0001-96</td>\n",
              "      <td>LABORATORIO SIMOES LTDA.</td>\n",
              "      <td>5,20501E+14</td>\n",
              "      <td>57600510011</td>\n",
              "      <td>7,89621E+12</td>\n",
              "      <td>-</td>\n",
              "      <td>-</td>\n",
              "      <td>TALCO ALÍVIO</td>\n",
              "      <td>...</td>\n",
              "      <td>NaN</td>\n",
              "      <td>NaN</td>\n",
              "      <td>Não</td>\n",
              "      <td>Não</td>\n",
              "      <td>Não</td>\n",
              "      <td>Não</td>\n",
              "      <td>NaN</td>\n",
              "      <td>Negativa</td>\n",
              "      <td>Não</td>\n",
              "      <td>Tarja Venda Livre</td>\n",
              "    </tr>\n",
              "    <tr>\n",
              "      <th>1</th>\n",
              "      <td>1</td>\n",
              "      <td>DIENOGESTE;VALERATO DE ESTRADIOL</td>\n",
              "      <td>56.990.534/0001-67</td>\n",
              "      <td>SCHERING DO BRASIL QUÍMICA E FARMACÊUTICA LTDA</td>\n",
              "      <td>5,30917E+14</td>\n",
              "      <td>1,002E+12</td>\n",
              "      <td>7,89612E+12</td>\n",
              "      <td>-</td>\n",
              "      <td>-</td>\n",
              "      <td>CHARMELIE</td>\n",
              "      <td>...</td>\n",
              "      <td>NaN</td>\n",
              "      <td>NaN</td>\n",
              "      <td>Não</td>\n",
              "      <td>Não</td>\n",
              "      <td>Não</td>\n",
              "      <td>Não</td>\n",
              "      <td>NaN</td>\n",
              "      <td>Negativa</td>\n",
              "      <td>Não</td>\n",
              "      <td>Tarja  Vermelha</td>\n",
              "    </tr>\n",
              "    <tr>\n",
              "      <th>2</th>\n",
              "      <td>2</td>\n",
              "      <td>HIDROCLOROTIAZIDA;MALEATO DE ENALAPRIL</td>\n",
              "      <td>45.987.013/0001-34</td>\n",
              "      <td>ORGANON FARMACÊUTICA LTDA.</td>\n",
              "      <td>5,255E+14</td>\n",
              "      <td>1,0029E+12</td>\n",
              "      <td>7,89734E+12</td>\n",
              "      <td>-</td>\n",
              "      <td>-</td>\n",
              "      <td>CO-RENITEC</td>\n",
              "      <td>...</td>\n",
              "      <td>NaN</td>\n",
              "      <td>NaN</td>\n",
              "      <td>Não</td>\n",
              "      <td>Não</td>\n",
              "      <td>Não</td>\n",
              "      <td>Não</td>\n",
              "      <td>NaN</td>\n",
              "      <td>Positiva</td>\n",
              "      <td>Não</td>\n",
              "      <td>NaN</td>\n",
              "    </tr>\n",
              "    <tr>\n",
              "      <th>3</th>\n",
              "      <td>3</td>\n",
              "      <td>HIDROCLOROTIAZIDA;MALEATO DE ENALAPRIL</td>\n",
              "      <td>45.987.013/0001-34</td>\n",
              "      <td>ORGANON FARMACÊUTICA LTDA.</td>\n",
              "      <td>5,255E+14</td>\n",
              "      <td>1,0029E+12</td>\n",
              "      <td>7,89734E+12</td>\n",
              "      <td>-</td>\n",
              "      <td>-</td>\n",
              "      <td>CO-RENITEC</td>\n",
              "      <td>...</td>\n",
              "      <td>NaN</td>\n",
              "      <td>NaN</td>\n",
              "      <td>Não</td>\n",
              "      <td>Não</td>\n",
              "      <td>Não</td>\n",
              "      <td>Não</td>\n",
              "      <td>NaN</td>\n",
              "      <td>Positiva</td>\n",
              "      <td>Não</td>\n",
              "      <td>NaN</td>\n",
              "    </tr>\n",
              "    <tr>\n",
              "      <th>4</th>\n",
              "      <td>4</td>\n",
              "      <td>MONTELUCASTE</td>\n",
              "      <td>45.987.013/0001-34</td>\n",
              "      <td>ORGANON FARMACÊUTICA LTDA.</td>\n",
              "      <td>5,25502E+14</td>\n",
              "      <td>1,0029E+12</td>\n",
              "      <td>7,89734E+12</td>\n",
              "      <td>-</td>\n",
              "      <td>-</td>\n",
              "      <td>SINGULAIR</td>\n",
              "      <td>...</td>\n",
              "      <td>NaN</td>\n",
              "      <td>NaN</td>\n",
              "      <td>Não</td>\n",
              "      <td>Não</td>\n",
              "      <td>Não</td>\n",
              "      <td>Não</td>\n",
              "      <td>NaN</td>\n",
              "      <td>Positiva</td>\n",
              "      <td>Sim</td>\n",
              "      <td>NaN</td>\n",
              "    </tr>\n",
              "  </tbody>\n",
              "</table>\n",
              "<p>5 rows × 41 columns</p>\n",
              "</div>\n",
              "      <button class=\"colab-df-convert\" onclick=\"convertToInteractive('df-c300a283-ef19-4900-a521-8e2394989829')\"\n",
              "              title=\"Convert this dataframe to an interactive table.\"\n",
              "              style=\"display:none;\">\n",
              "        \n",
              "  <svg xmlns=\"http://www.w3.org/2000/svg\" height=\"24px\"viewBox=\"0 0 24 24\"\n",
              "       width=\"24px\">\n",
              "    <path d=\"M0 0h24v24H0V0z\" fill=\"none\"/>\n",
              "    <path d=\"M18.56 5.44l.94 2.06.94-2.06 2.06-.94-2.06-.94-.94-2.06-.94 2.06-2.06.94zm-11 1L8.5 8.5l.94-2.06 2.06-.94-2.06-.94L8.5 2.5l-.94 2.06-2.06.94zm10 10l.94 2.06.94-2.06 2.06-.94-2.06-.94-.94-2.06-.94 2.06-2.06.94z\"/><path d=\"M17.41 7.96l-1.37-1.37c-.4-.4-.92-.59-1.43-.59-.52 0-1.04.2-1.43.59L10.3 9.45l-7.72 7.72c-.78.78-.78 2.05 0 2.83L4 21.41c.39.39.9.59 1.41.59.51 0 1.02-.2 1.41-.59l7.78-7.78 2.81-2.81c.8-.78.8-2.07 0-2.86zM5.41 20L4 18.59l7.72-7.72 1.47 1.35L5.41 20z\"/>\n",
              "  </svg>\n",
              "      </button>\n",
              "      \n",
              "  <style>\n",
              "    .colab-df-container {\n",
              "      display:flex;\n",
              "      flex-wrap:wrap;\n",
              "      gap: 12px;\n",
              "    }\n",
              "\n",
              "    .colab-df-convert {\n",
              "      background-color: #E8F0FE;\n",
              "      border: none;\n",
              "      border-radius: 50%;\n",
              "      cursor: pointer;\n",
              "      display: none;\n",
              "      fill: #1967D2;\n",
              "      height: 32px;\n",
              "      padding: 0 0 0 0;\n",
              "      width: 32px;\n",
              "    }\n",
              "\n",
              "    .colab-df-convert:hover {\n",
              "      background-color: #E2EBFA;\n",
              "      box-shadow: 0px 1px 2px rgba(60, 64, 67, 0.3), 0px 1px 3px 1px rgba(60, 64, 67, 0.15);\n",
              "      fill: #174EA6;\n",
              "    }\n",
              "\n",
              "    [theme=dark] .colab-df-convert {\n",
              "      background-color: #3B4455;\n",
              "      fill: #D2E3FC;\n",
              "    }\n",
              "\n",
              "    [theme=dark] .colab-df-convert:hover {\n",
              "      background-color: #434B5C;\n",
              "      box-shadow: 0px 1px 3px 1px rgba(0, 0, 0, 0.15);\n",
              "      filter: drop-shadow(0px 1px 2px rgba(0, 0, 0, 0.3));\n",
              "      fill: #FFFFFF;\n",
              "    }\n",
              "  </style>\n",
              "\n",
              "      <script>\n",
              "        const buttonEl =\n",
              "          document.querySelector('#df-c300a283-ef19-4900-a521-8e2394989829 button.colab-df-convert');\n",
              "        buttonEl.style.display =\n",
              "          google.colab.kernel.accessAllowed ? 'block' : 'none';\n",
              "\n",
              "        async function convertToInteractive(key) {\n",
              "          const element = document.querySelector('#df-c300a283-ef19-4900-a521-8e2394989829');\n",
              "          const dataTable =\n",
              "            await google.colab.kernel.invokeFunction('convertToInteractive',\n",
              "                                                     [key], {});\n",
              "          if (!dataTable) return;\n",
              "\n",
              "          const docLinkHtml = 'Like what you see? Visit the ' +\n",
              "            '<a target=\"_blank\" href=https://colab.research.google.com/notebooks/data_table.ipynb>data table notebook</a>'\n",
              "            + ' to learn more about interactive tables.';\n",
              "          element.innerHTML = '';\n",
              "          dataTable['output_type'] = 'display_data';\n",
              "          await google.colab.output.renderOutput(dataTable, element);\n",
              "          const docLink = document.createElement('div');\n",
              "          docLink.innerHTML = docLinkHtml;\n",
              "          element.appendChild(docLink);\n",
              "        }\n",
              "      </script>\n",
              "    </div>\n",
              "  </div>\n",
              "  "
            ]
          },
          "metadata": {},
          "execution_count": 4
        }
      ]
    },
    {
      "cell_type": "code",
      "source": [
        "dados.info()"
      ],
      "metadata": {
        "colab": {
          "base_uri": "https://localhost:8080/"
        },
        "id": "BHJSv8nm1bS2",
        "outputId": "3b57c563-5339-469c-8912-b0b58184eea3"
      },
      "execution_count": 5,
      "outputs": [
        {
          "output_type": "stream",
          "name": "stdout",
          "text": [
            "<class 'pandas.core.frame.DataFrame'>\n",
            "RangeIndex: 26301 entries, 0 to 26300\n",
            "Data columns (total 41 columns):\n",
            " #   Column                                                 Non-Null Count  Dtype  \n",
            "---  ------                                                 --------------  -----  \n",
            " 0   Unnamed: 0                                             26301 non-null  int64  \n",
            " 1   SUBSTÂNCIA                                             26301 non-null  object \n",
            " 2   CNPJ                                                   26301 non-null  object \n",
            " 3   LABORATÓRIO                                            26301 non-null  object \n",
            " 4   CÓDIGO GGREM                                           26301 non-null  object \n",
            " 5   REGISTRO                                               26301 non-null  object \n",
            " 6   EAN 1                                                  26301 non-null  object \n",
            " 7   EAN 2                                                  26301 non-null  object \n",
            " 8   EAN 3                                                  26301 non-null  object \n",
            " 9   PRODUTO                                                26301 non-null  object \n",
            " 10  APRESENTAÇÃO                                           26301 non-null  object \n",
            " 11  CLASSE TERAPÊUTICA                                     26301 non-null  object \n",
            " 12  TIPO DE PRODUTO (STATUS DO PRODUTO)                    26301 non-null  object \n",
            " 13  REGIME DE PREÇO                                        26301 non-null  object \n",
            " 14  PF Sem Impostos                                        237 non-null    float64\n",
            " 15  PF 0%                                                  254 non-null    float64\n",
            " 16  PF 12%                                                 287 non-null    float64\n",
            " 17  PF 17%                                                 299 non-null    float64\n",
            " 18  PF 17% ALC                                             289 non-null    float64\n",
            " 19  PF 17,5%                                               202 non-null    float64\n",
            " 20  PF 17,5% ALC                                           214 non-null    float64\n",
            " 21  PF 18%                                                 315 non-null    float64\n",
            " 22  PF 18% ALC                                             301 non-null    float64\n",
            " 23  PF 20%                                                 281 non-null    float64\n",
            " 24  PMC 0%                                                 212 non-null    float64\n",
            " 25  PMC 12%                                                206 non-null    float64\n",
            " 26  PMC 17%                                                204 non-null    float64\n",
            " 27  PMC 17% ALC                                            210 non-null    float64\n",
            " 28  PMC 17,5%                                              199 non-null    float64\n",
            " 29  PMC 17,5% ALC                                          198 non-null    float64\n",
            " 30  PMC 18%                                                244 non-null    float64\n",
            " 31  PMC 18% ALC                                            202 non-null    float64\n",
            " 32  PMC 20%                                                227 non-null    float64\n",
            " 33  RESTRIÇÃO HOSPITALAR                                   26301 non-null  object \n",
            " 34  CAP                                                    26301 non-null  object \n",
            " 35  CONFAZ 87                                              26301 non-null  object \n",
            " 36  ICMS 0%                                                26301 non-null  object \n",
            " 37  ANÁLISE RECURSAL                                       162 non-null    float64\n",
            " 38  LISTA DE CONCESSÃO DE CRÉDITO TRIBUTÁRIO (PIS/COFINS)  26301 non-null  object \n",
            " 39  COMERCIALIZAÇÃO 2020                                   26301 non-null  object \n",
            " 40  TARJA                                                  19120 non-null  object \n",
            "dtypes: float64(20), int64(1), object(20)\n",
            "memory usage: 8.2+ MB\n"
          ]
        }
      ]
    },
    {
      "cell_type": "code",
      "source": [
        "dados.columns"
      ],
      "metadata": {
        "colab": {
          "base_uri": "https://localhost:8080/"
        },
        "id": "_CPC0Y-I1oRx",
        "outputId": "beb4cbe9-ab10-4732-c0e3-dc890e693607"
      },
      "execution_count": 6,
      "outputs": [
        {
          "output_type": "execute_result",
          "data": {
            "text/plain": [
              "Index(['Unnamed: 0', 'SUBSTÂNCIA', 'CNPJ', 'LABORATÓRIO', 'CÓDIGO GGREM',\n",
              "       'REGISTRO', 'EAN 1', 'EAN 2', 'EAN 3', 'PRODUTO', 'APRESENTAÇÃO',\n",
              "       'CLASSE TERAPÊUTICA', 'TIPO DE PRODUTO (STATUS DO PRODUTO)',\n",
              "       'REGIME DE PREÇO', 'PF Sem Impostos', 'PF 0%', 'PF 12%', 'PF 17%',\n",
              "       'PF 17% ALC', 'PF 17,5%', 'PF 17,5% ALC', 'PF 18%', 'PF 18% ALC',\n",
              "       'PF 20%', 'PMC 0%', 'PMC 12%', 'PMC 17%', 'PMC 17% ALC', 'PMC 17,5%',\n",
              "       'PMC 17,5% ALC', 'PMC 18%', 'PMC 18% ALC', 'PMC 20%',\n",
              "       'RESTRIÇÃO HOSPITALAR', 'CAP', 'CONFAZ 87', 'ICMS 0%',\n",
              "       'ANÁLISE RECURSAL',\n",
              "       'LISTA DE CONCESSÃO DE CRÉDITO TRIBUTÁRIO (PIS/COFINS)',\n",
              "       'COMERCIALIZAÇÃO 2020', 'TARJA'],\n",
              "      dtype='object')"
            ]
          },
          "metadata": {},
          "execution_count": 6
        }
      ]
    },
    {
      "cell_type": "code",
      "source": [
        "colunas = ['Unnamed: 0', 'SUBSTÂNCIA', 'CNPJ', 'LABORATÓRIO', 'CÓDIGO GGREM',\n",
        "       'REGISTRO', 'EAN 1', 'EAN 2', 'EAN 3', 'PRODUTO', 'APRESENTAÇÃO',\n",
        "       'CLASSE TERAPÊUTICA', 'TIPO DE PRODUTO (STATUS DO PRODUTO)',\n",
        "       'REGIME DE PREÇO', 'RESTRIÇÃO HOSPITALAR', 'CAP', 'CONFAZ 87', 'ICMS 0%',\n",
        "       'ANÁLISE RECURSAL','LISTA DE CONCESSÃO DE CRÉDITO TRIBUTÁRIO (PIS/COFINS)',\n",
        "       'COMERCIALIZAÇÃO 2020', 'TARJA']"
      ],
      "metadata": {
        "id": "q6evzgVX1LDT"
      },
      "execution_count": 7,
      "outputs": []
    },
    {
      "cell_type": "code",
      "source": [
        "dados_analise = dados.drop(columns=colunas, axis=1)"
      ],
      "metadata": {
        "id": "FwzPnLaj1Hug"
      },
      "execution_count": 8,
      "outputs": []
    },
    {
      "cell_type": "code",
      "source": [
        "dados_analise.head()"
      ],
      "metadata": {
        "colab": {
          "base_uri": "https://localhost:8080/",
          "height": 268
        },
        "id": "_ab-KMBm1bu4",
        "outputId": "6953732b-69ea-4db4-b083-c9ae2e2b667b"
      },
      "execution_count": 9,
      "outputs": [
        {
          "output_type": "execute_result",
          "data": {
            "text/plain": [
              "   PF Sem Impostos  PF 0%  PF 12%  PF 17%  PF 17% ALC  PF 17,5%  PF 17,5% ALC  \\\n",
              "0              NaN    NaN     NaN     NaN         NaN       NaN           NaN   \n",
              "1              NaN    NaN     NaN     NaN         NaN       NaN           NaN   \n",
              "2              NaN    NaN     NaN     NaN         NaN       NaN           NaN   \n",
              "3              NaN    NaN     NaN     NaN         NaN       NaN           NaN   \n",
              "4              NaN    NaN     NaN     NaN         NaN       NaN           NaN   \n",
              "\n",
              "   PF 18%  PF 18% ALC  PF 20%  PMC 0%  PMC 12%  PMC 17%  PMC 17% ALC  \\\n",
              "0     NaN         NaN     NaN     NaN      NaN      NaN          NaN   \n",
              "1     NaN         NaN     NaN     NaN      NaN      NaN          NaN   \n",
              "2     NaN         NaN     NaN     NaN      NaN      NaN          NaN   \n",
              "3     NaN         NaN     NaN     NaN      NaN      NaN          NaN   \n",
              "4     NaN         NaN     NaN     NaN      NaN      NaN          NaN   \n",
              "\n",
              "   PMC 17,5%  PMC 17,5% ALC  PMC 18%  PMC 18% ALC  PMC 20%  \n",
              "0        NaN            NaN      NaN          NaN      NaN  \n",
              "1        NaN            NaN      NaN          NaN      NaN  \n",
              "2        NaN            NaN      NaN          NaN      NaN  \n",
              "3        NaN            NaN      NaN          NaN      NaN  \n",
              "4        NaN            NaN      NaN          NaN      NaN  "
            ],
            "text/html": [
              "\n",
              "  <div id=\"df-f051781a-a75c-4082-9e16-38002d8777e9\">\n",
              "    <div class=\"colab-df-container\">\n",
              "      <div>\n",
              "<style scoped>\n",
              "    .dataframe tbody tr th:only-of-type {\n",
              "        vertical-align: middle;\n",
              "    }\n",
              "\n",
              "    .dataframe tbody tr th {\n",
              "        vertical-align: top;\n",
              "    }\n",
              "\n",
              "    .dataframe thead th {\n",
              "        text-align: right;\n",
              "    }\n",
              "</style>\n",
              "<table border=\"1\" class=\"dataframe\">\n",
              "  <thead>\n",
              "    <tr style=\"text-align: right;\">\n",
              "      <th></th>\n",
              "      <th>PF Sem Impostos</th>\n",
              "      <th>PF 0%</th>\n",
              "      <th>PF 12%</th>\n",
              "      <th>PF 17%</th>\n",
              "      <th>PF 17% ALC</th>\n",
              "      <th>PF 17,5%</th>\n",
              "      <th>PF 17,5% ALC</th>\n",
              "      <th>PF 18%</th>\n",
              "      <th>PF 18% ALC</th>\n",
              "      <th>PF 20%</th>\n",
              "      <th>PMC 0%</th>\n",
              "      <th>PMC 12%</th>\n",
              "      <th>PMC 17%</th>\n",
              "      <th>PMC 17% ALC</th>\n",
              "      <th>PMC 17,5%</th>\n",
              "      <th>PMC 17,5% ALC</th>\n",
              "      <th>PMC 18%</th>\n",
              "      <th>PMC 18% ALC</th>\n",
              "      <th>PMC 20%</th>\n",
              "    </tr>\n",
              "  </thead>\n",
              "  <tbody>\n",
              "    <tr>\n",
              "      <th>0</th>\n",
              "      <td>NaN</td>\n",
              "      <td>NaN</td>\n",
              "      <td>NaN</td>\n",
              "      <td>NaN</td>\n",
              "      <td>NaN</td>\n",
              "      <td>NaN</td>\n",
              "      <td>NaN</td>\n",
              "      <td>NaN</td>\n",
              "      <td>NaN</td>\n",
              "      <td>NaN</td>\n",
              "      <td>NaN</td>\n",
              "      <td>NaN</td>\n",
              "      <td>NaN</td>\n",
              "      <td>NaN</td>\n",
              "      <td>NaN</td>\n",
              "      <td>NaN</td>\n",
              "      <td>NaN</td>\n",
              "      <td>NaN</td>\n",
              "      <td>NaN</td>\n",
              "    </tr>\n",
              "    <tr>\n",
              "      <th>1</th>\n",
              "      <td>NaN</td>\n",
              "      <td>NaN</td>\n",
              "      <td>NaN</td>\n",
              "      <td>NaN</td>\n",
              "      <td>NaN</td>\n",
              "      <td>NaN</td>\n",
              "      <td>NaN</td>\n",
              "      <td>NaN</td>\n",
              "      <td>NaN</td>\n",
              "      <td>NaN</td>\n",
              "      <td>NaN</td>\n",
              "      <td>NaN</td>\n",
              "      <td>NaN</td>\n",
              "      <td>NaN</td>\n",
              "      <td>NaN</td>\n",
              "      <td>NaN</td>\n",
              "      <td>NaN</td>\n",
              "      <td>NaN</td>\n",
              "      <td>NaN</td>\n",
              "    </tr>\n",
              "    <tr>\n",
              "      <th>2</th>\n",
              "      <td>NaN</td>\n",
              "      <td>NaN</td>\n",
              "      <td>NaN</td>\n",
              "      <td>NaN</td>\n",
              "      <td>NaN</td>\n",
              "      <td>NaN</td>\n",
              "      <td>NaN</td>\n",
              "      <td>NaN</td>\n",
              "      <td>NaN</td>\n",
              "      <td>NaN</td>\n",
              "      <td>NaN</td>\n",
              "      <td>NaN</td>\n",
              "      <td>NaN</td>\n",
              "      <td>NaN</td>\n",
              "      <td>NaN</td>\n",
              "      <td>NaN</td>\n",
              "      <td>NaN</td>\n",
              "      <td>NaN</td>\n",
              "      <td>NaN</td>\n",
              "    </tr>\n",
              "    <tr>\n",
              "      <th>3</th>\n",
              "      <td>NaN</td>\n",
              "      <td>NaN</td>\n",
              "      <td>NaN</td>\n",
              "      <td>NaN</td>\n",
              "      <td>NaN</td>\n",
              "      <td>NaN</td>\n",
              "      <td>NaN</td>\n",
              "      <td>NaN</td>\n",
              "      <td>NaN</td>\n",
              "      <td>NaN</td>\n",
              "      <td>NaN</td>\n",
              "      <td>NaN</td>\n",
              "      <td>NaN</td>\n",
              "      <td>NaN</td>\n",
              "      <td>NaN</td>\n",
              "      <td>NaN</td>\n",
              "      <td>NaN</td>\n",
              "      <td>NaN</td>\n",
              "      <td>NaN</td>\n",
              "    </tr>\n",
              "    <tr>\n",
              "      <th>4</th>\n",
              "      <td>NaN</td>\n",
              "      <td>NaN</td>\n",
              "      <td>NaN</td>\n",
              "      <td>NaN</td>\n",
              "      <td>NaN</td>\n",
              "      <td>NaN</td>\n",
              "      <td>NaN</td>\n",
              "      <td>NaN</td>\n",
              "      <td>NaN</td>\n",
              "      <td>NaN</td>\n",
              "      <td>NaN</td>\n",
              "      <td>NaN</td>\n",
              "      <td>NaN</td>\n",
              "      <td>NaN</td>\n",
              "      <td>NaN</td>\n",
              "      <td>NaN</td>\n",
              "      <td>NaN</td>\n",
              "      <td>NaN</td>\n",
              "      <td>NaN</td>\n",
              "    </tr>\n",
              "  </tbody>\n",
              "</table>\n",
              "</div>\n",
              "      <button class=\"colab-df-convert\" onclick=\"convertToInteractive('df-f051781a-a75c-4082-9e16-38002d8777e9')\"\n",
              "              title=\"Convert this dataframe to an interactive table.\"\n",
              "              style=\"display:none;\">\n",
              "        \n",
              "  <svg xmlns=\"http://www.w3.org/2000/svg\" height=\"24px\"viewBox=\"0 0 24 24\"\n",
              "       width=\"24px\">\n",
              "    <path d=\"M0 0h24v24H0V0z\" fill=\"none\"/>\n",
              "    <path d=\"M18.56 5.44l.94 2.06.94-2.06 2.06-.94-2.06-.94-.94-2.06-.94 2.06-2.06.94zm-11 1L8.5 8.5l.94-2.06 2.06-.94-2.06-.94L8.5 2.5l-.94 2.06-2.06.94zm10 10l.94 2.06.94-2.06 2.06-.94-2.06-.94-.94-2.06-.94 2.06-2.06.94z\"/><path d=\"M17.41 7.96l-1.37-1.37c-.4-.4-.92-.59-1.43-.59-.52 0-1.04.2-1.43.59L10.3 9.45l-7.72 7.72c-.78.78-.78 2.05 0 2.83L4 21.41c.39.39.9.59 1.41.59.51 0 1.02-.2 1.41-.59l7.78-7.78 2.81-2.81c.8-.78.8-2.07 0-2.86zM5.41 20L4 18.59l7.72-7.72 1.47 1.35L5.41 20z\"/>\n",
              "  </svg>\n",
              "      </button>\n",
              "      \n",
              "  <style>\n",
              "    .colab-df-container {\n",
              "      display:flex;\n",
              "      flex-wrap:wrap;\n",
              "      gap: 12px;\n",
              "    }\n",
              "\n",
              "    .colab-df-convert {\n",
              "      background-color: #E8F0FE;\n",
              "      border: none;\n",
              "      border-radius: 50%;\n",
              "      cursor: pointer;\n",
              "      display: none;\n",
              "      fill: #1967D2;\n",
              "      height: 32px;\n",
              "      padding: 0 0 0 0;\n",
              "      width: 32px;\n",
              "    }\n",
              "\n",
              "    .colab-df-convert:hover {\n",
              "      background-color: #E2EBFA;\n",
              "      box-shadow: 0px 1px 2px rgba(60, 64, 67, 0.3), 0px 1px 3px 1px rgba(60, 64, 67, 0.15);\n",
              "      fill: #174EA6;\n",
              "    }\n",
              "\n",
              "    [theme=dark] .colab-df-convert {\n",
              "      background-color: #3B4455;\n",
              "      fill: #D2E3FC;\n",
              "    }\n",
              "\n",
              "    [theme=dark] .colab-df-convert:hover {\n",
              "      background-color: #434B5C;\n",
              "      box-shadow: 0px 1px 3px 1px rgba(0, 0, 0, 0.15);\n",
              "      filter: drop-shadow(0px 1px 2px rgba(0, 0, 0, 0.3));\n",
              "      fill: #FFFFFF;\n",
              "    }\n",
              "  </style>\n",
              "\n",
              "      <script>\n",
              "        const buttonEl =\n",
              "          document.querySelector('#df-f051781a-a75c-4082-9e16-38002d8777e9 button.colab-df-convert');\n",
              "        buttonEl.style.display =\n",
              "          google.colab.kernel.accessAllowed ? 'block' : 'none';\n",
              "\n",
              "        async function convertToInteractive(key) {\n",
              "          const element = document.querySelector('#df-f051781a-a75c-4082-9e16-38002d8777e9');\n",
              "          const dataTable =\n",
              "            await google.colab.kernel.invokeFunction('convertToInteractive',\n",
              "                                                     [key], {});\n",
              "          if (!dataTable) return;\n",
              "\n",
              "          const docLinkHtml = 'Like what you see? Visit the ' +\n",
              "            '<a target=\"_blank\" href=https://colab.research.google.com/notebooks/data_table.ipynb>data table notebook</a>'\n",
              "            + ' to learn more about interactive tables.';\n",
              "          element.innerHTML = '';\n",
              "          dataTable['output_type'] = 'display_data';\n",
              "          await google.colab.output.renderOutput(dataTable, element);\n",
              "          const docLink = document.createElement('div');\n",
              "          docLink.innerHTML = docLinkHtml;\n",
              "          element.appendChild(docLink);\n",
              "        }\n",
              "      </script>\n",
              "    </div>\n",
              "  </div>\n",
              "  "
            ]
          },
          "metadata": {},
          "execution_count": 9
        }
      ]
    },
    {
      "cell_type": "code",
      "source": [
        "dados_analise.columns"
      ],
      "metadata": {
        "colab": {
          "base_uri": "https://localhost:8080/"
        },
        "id": "m_ijEH3t1_Dv",
        "outputId": "0a7bf991-975f-4221-ca90-8876bcca9243"
      },
      "execution_count": 10,
      "outputs": [
        {
          "output_type": "execute_result",
          "data": {
            "text/plain": [
              "Index(['PF Sem Impostos', 'PF 0%', 'PF 12%', 'PF 17%', 'PF 17% ALC',\n",
              "       'PF 17,5%', 'PF 17,5% ALC', 'PF 18%', 'PF 18% ALC', 'PF 20%', 'PMC 0%',\n",
              "       'PMC 12%', 'PMC 17%', 'PMC 17% ALC', 'PMC 17,5%', 'PMC 17,5% ALC',\n",
              "       'PMC 18%', 'PMC 18% ALC', 'PMC 20%'],\n",
              "      dtype='object')"
            ]
          },
          "metadata": {},
          "execution_count": 10
        }
      ]
    },
    {
      "cell_type": "code",
      "source": [
        "# tratamento para os valores nulos dos preços\n",
        "str_cols = ['PF Sem Impostos', 'PF 0%', 'PF 12%', 'PF 17%',\n",
        "       'PF 17% ALC', 'PF 17,5%', 'PF 17,5% ALC', 'PF 18%', 'PF 18% ALC',\n",
        "       'PF 20%', 'PMC 0%', 'PMC 12%', 'PMC 17%', 'PMC 17% ALC', 'PMC 17,5%',\n",
        "       'PMC 17,5% ALC', 'PMC 18%', 'PMC 18% ALC', 'PMC 20%']\n",
        "for str in str_cols:\n",
        "  dados_analise[str].fillna(0, inplace=True)"
      ],
      "metadata": {
        "id": "6ZN2_9FMvCQc"
      },
      "execution_count": 11,
      "outputs": []
    },
    {
      "cell_type": "code",
      "source": [
        "dados_analise.info()"
      ],
      "metadata": {
        "colab": {
          "base_uri": "https://localhost:8080/"
        },
        "id": "W4_zjt2v2R5J",
        "outputId": "9b7c6a9f-e81f-4eb1-f52b-dfb58411a49b"
      },
      "execution_count": 12,
      "outputs": [
        {
          "output_type": "stream",
          "name": "stdout",
          "text": [
            "<class 'pandas.core.frame.DataFrame'>\n",
            "RangeIndex: 26301 entries, 0 to 26300\n",
            "Data columns (total 19 columns):\n",
            " #   Column           Non-Null Count  Dtype  \n",
            "---  ------           --------------  -----  \n",
            " 0   PF Sem Impostos  26301 non-null  float64\n",
            " 1   PF 0%            26301 non-null  float64\n",
            " 2   PF 12%           26301 non-null  float64\n",
            " 3   PF 17%           26301 non-null  float64\n",
            " 4   PF 17% ALC       26301 non-null  float64\n",
            " 5   PF 17,5%         26301 non-null  float64\n",
            " 6   PF 17,5% ALC     26301 non-null  float64\n",
            " 7   PF 18%           26301 non-null  float64\n",
            " 8   PF 18% ALC       26301 non-null  float64\n",
            " 9   PF 20%           26301 non-null  float64\n",
            " 10  PMC 0%           26301 non-null  float64\n",
            " 11  PMC 12%          26301 non-null  float64\n",
            " 12  PMC 17%          26301 non-null  float64\n",
            " 13  PMC 17% ALC      26301 non-null  float64\n",
            " 14  PMC 17,5%        26301 non-null  float64\n",
            " 15  PMC 17,5% ALC    26301 non-null  float64\n",
            " 16  PMC 18%          26301 non-null  float64\n",
            " 17  PMC 18% ALC      26301 non-null  float64\n",
            " 18  PMC 20%          26301 non-null  float64\n",
            "dtypes: float64(19)\n",
            "memory usage: 3.8 MB\n"
          ]
        }
      ]
    },
    {
      "cell_type": "markdown",
      "source": [
        "## Análise Preliminar"
      ],
      "metadata": {
        "id": "_ulSQIAZ1BD0"
      }
    },
    {
      "cell_type": "code",
      "source": [
        "correlations = dados_analise.corr()\n",
        "f, ax = plt.subplots(figsize=(20,20))\n",
        "sns.heatmap(correlations, annot=True);"
      ],
      "metadata": {
        "colab": {
          "base_uri": "https://localhost:8080/",
          "height": 1000
        },
        "id": "z9MlJeoH05Jn",
        "outputId": "5e26182f-6ee7-4c69-996a-191ac6146256"
      },
      "execution_count": 13,
      "outputs": [
        {
          "output_type": "display_data",
          "data": {
            "text/plain": [
              "<Figure size 1440x1440 with 2 Axes>"
            ],
            "image/png": "[encoded data removed]"
          },
          "metadata": {
            "needs_background": "light"
          }
        }
      ]
    },
    {
      "cell_type": "markdown",
      "source": [
        "Avaliando o gráfico de calor que apresenta a correlação entre as variaveis, temos:\n",
        "\n",
        "- correlação positiva forte: PF 18% e PF 18% ALC\n",
        "- correlação positiva moderada: PF 0% e PMC 17,5% ALC; PF 0% e PF 20%;\n",
        "- correlação positiva fraca: PF 12% e PF 17,5%, PF 17,5% e PF 17,5% ALC;"
      ],
      "metadata": {
        "id": "hVr04k9qMrSe"
      }
    },
    {
      "cell_type": "markdown",
      "source": [
        "## Criando o dataframe de preços"
      ],
      "metadata": {
        "id": "mjww7ly2MGJ-"
      }
    },
    {
      "cell_type": "markdown",
      "source": [
        "Visto a alta correlação entre os atributos 'PF 18%' e 'PF 18% ALC', iremos criar um novo dataframe com os atributos citados, assim como o 'PF Sem Impostos' que representa o preço de fabrica de um medicamento sem impostos, como também o preço máximo ao consumidor 18% que representa o valor comercializado. "
      ],
      "metadata": {
        "id": "jOuEKcIn_D9w"
      }
    },
    {
      "cell_type": "code",
      "source": [
        "df = dados[['PF Sem Impostos', 'PF 18%', 'PF 18% ALC','PMC 18%']]"
      ],
      "metadata": {
        "id": "O-dtkCnVuSto"
      },
      "execution_count": 14,
      "outputs": []
    },
    {
      "cell_type": "code",
      "source": [
        "df = df.dropna(how='all')\n",
        "df.head()"
      ],
      "metadata": {
        "colab": {
          "base_uri": "https://localhost:8080/",
          "height": 206
        },
        "id": "tlZw0fnj5POt",
        "outputId": "8ad24506-c8c6-48f0-e518-67683f290d9c"
      },
      "execution_count": 15,
      "outputs": [
        {
          "output_type": "execute_result",
          "data": {
            "text/plain": [
              "     PF Sem Impostos  PF 18%  PF 18% ALC  PMC 18%\n",
              "14              23.0     NaN         NaN      NaN\n",
              "106              NaN     NaN        35.0      NaN\n",
              "111             65.0     NaN         NaN      NaN\n",
              "234              NaN     NaN         NaN    167.0\n",
              "310              NaN     NaN         NaN     84.0"
            ],
            "text/html": [
              "\n",
              "  <div id=\"df-1044d72c-3825-47b5-9028-0d72c59353d1\">\n",
              "    <div class=\"colab-df-container\">\n",
              "      <div>\n",
              "<style scoped>\n",
              "    .dataframe tbody tr th:only-of-type {\n",
              "        vertical-align: middle;\n",
              "    }\n",
              "\n",
              "    .dataframe tbody tr th {\n",
              "        vertical-align: top;\n",
              "    }\n",
              "\n",
              "    .dataframe thead th {\n",
              "        text-align: right;\n",
              "    }\n",
              "</style>\n",
              "<table border=\"1\" class=\"dataframe\">\n",
              "  <thead>\n",
              "    <tr style=\"text-align: right;\">\n",
              "      <th></th>\n",
              "      <th>PF Sem Impostos</th>\n",
              "      <th>PF 18%</th>\n",
              "      <th>PF 18% ALC</th>\n",
              "      <th>PMC 18%</th>\n",
              "    </tr>\n",
              "  </thead>\n",
              "  <tbody>\n",
              "    <tr>\n",
              "      <th>14</th>\n",
              "      <td>23.0</td>\n",
              "      <td>NaN</td>\n",
              "      <td>NaN</td>\n",
              "      <td>NaN</td>\n",
              "    </tr>\n",
              "    <tr>\n",
              "      <th>106</th>\n",
              "      <td>NaN</td>\n",
              "      <td>NaN</td>\n",
              "      <td>35.0</td>\n",
              "      <td>NaN</td>\n",
              "    </tr>\n",
              "    <tr>\n",
              "      <th>111</th>\n",
              "      <td>65.0</td>\n",
              "      <td>NaN</td>\n",
              "      <td>NaN</td>\n",
              "      <td>NaN</td>\n",
              "    </tr>\n",
              "    <tr>\n",
              "      <th>234</th>\n",
              "      <td>NaN</td>\n",
              "      <td>NaN</td>\n",
              "      <td>NaN</td>\n",
              "      <td>167.0</td>\n",
              "    </tr>\n",
              "    <tr>\n",
              "      <th>310</th>\n",
              "      <td>NaN</td>\n",
              "      <td>NaN</td>\n",
              "      <td>NaN</td>\n",
              "      <td>84.0</td>\n",
              "    </tr>\n",
              "  </tbody>\n",
              "</table>\n",
              "</div>\n",
              "      <button class=\"colab-df-convert\" onclick=\"convertToInteractive('df-1044d72c-3825-47b5-9028-0d72c59353d1')\"\n",
              "              title=\"Convert this dataframe to an interactive table.\"\n",
              "              style=\"display:none;\">\n",
              "        \n",
              "  <svg xmlns=\"http://www.w3.org/2000/svg\" height=\"24px\"viewBox=\"0 0 24 24\"\n",
              "       width=\"24px\">\n",
              "    <path d=\"M0 0h24v24H0V0z\" fill=\"none\"/>\n",
              "    <path d=\"M18.56 5.44l.94 2.06.94-2.06 2.06-.94-2.06-.94-.94-2.06-.94 2.06-2.06.94zm-11 1L8.5 8.5l.94-2.06 2.06-.94-2.06-.94L8.5 2.5l-.94 2.06-2.06.94zm10 10l.94 2.06.94-2.06 2.06-.94-2.06-.94-.94-2.06-.94 2.06-2.06.94z\"/><path d=\"M17.41 7.96l-1.37-1.37c-.4-.4-.92-.59-1.43-.59-.52 0-1.04.2-1.43.59L10.3 9.45l-7.72 7.72c-.78.78-.78 2.05 0 2.83L4 21.41c.39.39.9.59 1.41.59.51 0 1.02-.2 1.41-.59l7.78-7.78 2.81-2.81c.8-.78.8-2.07 0-2.86zM5.41 20L4 18.59l7.72-7.72 1.47 1.35L5.41 20z\"/>\n",
              "  </svg>\n",
              "      </button>\n",
              "      \n",
              "  <style>\n",
              "    .colab-df-container {\n",
              "      display:flex;\n",
              "      flex-wrap:wrap;\n",
              "      gap: 12px;\n",
              "    }\n",
              "\n",
              "    .colab-df-convert {\n",
              "      background-color: #E8F0FE;\n",
              "      border: none;\n",
              "      border-radius: 50%;\n",
              "      cursor: pointer;\n",
              "      display: none;\n",
              "      fill: #1967D2;\n",
              "      height: 32px;\n",
              "      padding: 0 0 0 0;\n",
              "      width: 32px;\n",
              "    }\n",
              "\n",
              "    .colab-df-convert:hover {\n",
              "      background-color: #E2EBFA;\n",
              "      box-shadow: 0px 1px 2px rgba(60, 64, 67, 0.3), 0px 1px 3px 1px rgba(60, 64, 67, 0.15);\n",
              "      fill: #174EA6;\n",
              "    }\n",
              "\n",
              "    [theme=dark] .colab-df-convert {\n",
              "      background-color: #3B4455;\n",
              "      fill: #D2E3FC;\n",
              "    }\n",
              "\n",
              "    [theme=dark] .colab-df-convert:hover {\n",
              "      background-color: #434B5C;\n",
              "      box-shadow: 0px 1px 3px 1px rgba(0, 0, 0, 0.15);\n",
              "      filter: drop-shadow(0px 1px 2px rgba(0, 0, 0, 0.3));\n",
              "      fill: #FFFFFF;\n",
              "    }\n",
              "  </style>\n",
              "\n",
              "      <script>\n",
              "        const buttonEl =\n",
              "          document.querySelector('#df-1044d72c-3825-47b5-9028-0d72c59353d1 button.colab-df-convert');\n",
              "        buttonEl.style.display =\n",
              "          google.colab.kernel.accessAllowed ? 'block' : 'none';\n",
              "\n",
              "        async function convertToInteractive(key) {\n",
              "          const element = document.querySelector('#df-1044d72c-3825-47b5-9028-0d72c59353d1');\n",
              "          const dataTable =\n",
              "            await google.colab.kernel.invokeFunction('convertToInteractive',\n",
              "                                                     [key], {});\n",
              "          if (!dataTable) return;\n",
              "\n",
              "          const docLinkHtml = 'Like what you see? Visit the ' +\n",
              "            '<a target=\"_blank\" href=https://colab.research.google.com/notebooks/data_table.ipynb>data table notebook</a>'\n",
              "            + ' to learn more about interactive tables.';\n",
              "          element.innerHTML = '';\n",
              "          dataTable['output_type'] = 'display_data';\n",
              "          await google.colab.output.renderOutput(dataTable, element);\n",
              "          const docLink = document.createElement('div');\n",
              "          docLink.innerHTML = docLinkHtml;\n",
              "          element.appendChild(docLink);\n",
              "        }\n",
              "      </script>\n",
              "    </div>\n",
              "  </div>\n",
              "  "
            ]
          },
          "metadata": {},
          "execution_count": 15
        }
      ]
    },
    {
      "cell_type": "code",
      "source": [
        "# tratamento para os valores nulos dos preços\n",
        "str_cols = ['PF Sem Impostos', 'PF 18%', 'PF 18% ALC','PMC 18%']\n",
        "for str in str_cols:\n",
        "  df[str].fillna(0, inplace=True)"
      ],
      "metadata": {
        "id": "ajsv_QoA5Upo"
      },
      "execution_count": 16,
      "outputs": []
    },
    {
      "cell_type": "code",
      "source": [
        "df.info()"
      ],
      "metadata": {
        "colab": {
          "base_uri": "https://localhost:8080/"
        },
        "id": "v1frsbRLu6DE",
        "outputId": "a54cde70-50b8-4a77-f30e-93f887140760"
      },
      "execution_count": 17,
      "outputs": [
        {
          "output_type": "stream",
          "name": "stdout",
          "text": [
            "<class 'pandas.core.frame.DataFrame'>\n",
            "Int64Index: 861 entries, 14 to 26272\n",
            "Data columns (total 4 columns):\n",
            " #   Column           Non-Null Count  Dtype  \n",
            "---  ------           --------------  -----  \n",
            " 0   PF Sem Impostos  861 non-null    float64\n",
            " 1   PF 18%           861 non-null    float64\n",
            " 2   PF 18% ALC       861 non-null    float64\n",
            " 3   PMC 18%          861 non-null    float64\n",
            "dtypes: float64(4)\n",
            "memory usage: 33.6 KB\n"
          ]
        }
      ]
    },
    {
      "cell_type": "markdown",
      "source": [
        "## Análises Preliminares do dataframe de estudo"
      ],
      "metadata": {
        "id": "ajhY7Y6rMdsg"
      }
    },
    {
      "cell_type": "markdown",
      "source": [
        "### Matriz de Correlação\n",
        "\n",
        "<p style='font-size: 18px; line-height: 2; margin: 10px 50px; text-align: justify;'>O <b>coeficiente de correlação</b> é uma medida de associação linear entre duas variáveis e situa-se entre <b>-1</b> e <b>+1</b> sendo que <b>-1</b> indica associação negativa perfeita e <b>+1</b> indica associação positiva perfeita.</p>"
      ],
      "metadata": {
        "id": "MBOzXMvuMh6Y"
      }
    },
    {
      "cell_type": "code",
      "source": [
        "correlations = df.corr()\n",
        "f, ax = plt.subplots(figsize=(20,20))\n",
        "sns.heatmap(correlations, annot=True);"
      ],
      "metadata": {
        "colab": {
          "base_uri": "https://localhost:8080/",
          "height": 1000
        },
        "id": "J4mC6bZMFsd9",
        "outputId": "edba0a2e-f802-40ea-b4e6-208e3e0f63ff"
      },
      "execution_count": 18,
      "outputs": [
        {
          "output_type": "display_data",
          "data": {
            "text/plain": [
              "<Figure size 1440x1440 with 2 Axes>"
            ],
            "image/png": "[encoded data removed]"
          },
          "metadata": {
            "needs_background": "light"
          }
        }
      ]
    },
    {
      "cell_type": "markdown",
      "source": [
        "Iremos definir como variável dependente o atributo PF 18% ALC, portanto o objetivo do modelo de regressão linear é prever o preço de fábrica de um medicamento para áreas de comércio livre. \n"
      ],
      "metadata": {
        "id": "6IyOdkEvNnNm"
      }
    },
    {
      "cell_type": "markdown",
      "source": [
        "# Comportamento da Variável Dependente (y)\n",
        "\n",
        "A variável que desejamos prever é o Preço de Fábrica 18 ALC %, que representa a o preço de fábrica de medicamentos em áreas de comércio livre. Iremos criar um modelo de regressão linear que irá prever o preço de fábrica de um medicamento, dado o seu valor de fábrica sem imposto, o preço de fábrica de medicamentos da maior parte dos estados brasileiros e o preço máximo comercializado no mesmos estados da variável anterior."
      ],
      "metadata": {
        "id": "M3m9I65TOAqE"
      }
    },
    {
      "cell_type": "markdown",
      "source": [
        "### Análises Gráficas\n",
        "\n",
        "  Plotando a variável dependente (y)"
      ],
      "metadata": {
        "id": "Cl6tNJmUOKDh"
      }
    },
    {
      "cell_type": "code",
      "source": [
        "analise = df[df['PF 18% ALC'] > 0]\n"
      ],
      "metadata": {
        "id": "mKvObkbkPP9p"
      },
      "execution_count": 19,
      "outputs": []
    },
    {
      "cell_type": "code",
      "source": [
        "# removendo outliers\n",
        "analise = analise[analise['PF 18% ALC'] >= 1000]\n",
        "analise = analise.reset_index()"
      ],
      "metadata": {
        "id": "wqU0AlxOQ3gy"
      },
      "execution_count": 20,
      "outputs": []
    },
    {
      "cell_type": "code",
      "source": [
        "ax = sns.boxplot(data=analise['PF 18% ALC'], orient='v', width=0.2)\n",
        "ax.figure.set_size_inches(12, 6)\n",
        "ax.set_title('Preço da Fabrica 18% ALC', fontsize=20)\n",
        "ax.set_ylabel('Valor em R$', fontsize=16)\n",
        "ax"
      ],
      "metadata": {
        "colab": {
          "base_uri": "https://localhost:8080/",
          "height": 412
        },
        "id": "4lCo_UZgPAz4",
        "outputId": "0f42f50f-2fda-4420-9e06-7ab321735f1f"
      },
      "execution_count": 21,
      "outputs": [
        {
          "output_type": "execute_result",
          "data": {
            "text/plain": [
              "<matplotlib.axes._subplots.AxesSubplot at 0x7f6974a248d0>"
            ]
          },
          "metadata": {},
          "execution_count": 21
        },
        {
          "output_type": "display_data",
          "data": {
            "text/plain": [
              "<Figure size 864x432 with 1 Axes>"
            ],
            "image/png": "[encoded data removed]"
          },
          "metadata": {
            "needs_background": "light"
          }
        }
      ]
    },
    {
      "cell_type": "markdown",
      "source": [
        "### Distribuição de Frequências"
      ],
      "metadata": {
        "id": "YVDwf4HbRZfC"
      }
    },
    {
      "cell_type": "code",
      "source": [
        "ax = sns.distplot(analise['PF 18% ALC'])\n",
        "ax.figure.set_size_inches(12, 6)\n",
        "ax.set_title('Distribuição de Frequências', fontsize=20)\n",
        "ax.set_xlabel('Valor em R$', fontsize=16)\n",
        "ax"
      ],
      "metadata": {
        "colab": {
          "base_uri": "https://localhost:8080/",
          "height": 487
        },
        "id": "b9QOLXm4ReXw",
        "outputId": "890cf4e1-b741-4085-ed32-5cccbb85ad29"
      },
      "execution_count": 22,
      "outputs": [
        {
          "output_type": "stream",
          "name": "stderr",
          "text": [
            "/usr/local/lib/python3.7/dist-packages/seaborn/distributions.py:2619: FutureWarning: `distplot` is a deprecated function and will be removed in a future version. Please adapt your code to use either `displot` (a figure-level function with similar flexibility) or `histplot` (an axes-level function for histograms).\n",
            "  warnings.warn(msg, FutureWarning)\n"
          ]
        },
        {
          "output_type": "execute_result",
          "data": {
            "text/plain": [
              "<matplotlib.axes._subplots.AxesSubplot at 0x7f6972c54850>"
            ]
          },
          "metadata": {},
          "execution_count": 22
        },
        {
          "output_type": "display_data",
          "data": {
            "text/plain": [
              "<Figure size 864x432 with 1 Axes>"
            ],
            "image/png": "[encoded data removed]"
          },
          "metadata": {
            "needs_background": "light"
          }
        }
      ]
    },
    {
      "cell_type": "markdown",
      "source": [
        "Plotando o pairplot fixando somente uma variável no eixo y"
      ],
      "metadata": {
        "id": "BLK1BYUBR6k2"
      }
    },
    {
      "cell_type": "code",
      "source": [
        "df.columns"
      ],
      "metadata": {
        "colab": {
          "base_uri": "https://localhost:8080/"
        },
        "id": "UpY7JR873I_T",
        "outputId": "9e09f9b6-a946-4129-f033-4da2ae9e4f3b"
      },
      "execution_count": 23,
      "outputs": [
        {
          "output_type": "execute_result",
          "data": {
            "text/plain": [
              "Index(['PF Sem Impostos', 'PF 18%', 'PF 18% ALC', 'PMC 18%'], dtype='object')"
            ]
          },
          "metadata": {},
          "execution_count": 23
        }
      ]
    },
    {
      "cell_type": "code",
      "source": [
        "ax = sns.pairplot(df, y_vars='PF 18% ALC', x_vars=['PF Sem Impostos','PF 18%', 'PMC 18%'], kind='reg')\n",
        "ax.fig.suptitle('Dispersão entre as Variáveis de Preço de Fábrica', fontsize=20, y=1.05)\n",
        "ax"
      ],
      "metadata": {
        "colab": {
          "base_uri": "https://localhost:8080/",
          "height": 230
        },
        "id": "cM0YNANoR6SG",
        "outputId": "2ba415ea-67bf-4fc9-fc64-6b5ed2a40e0e"
      },
      "execution_count": 24,
      "outputs": [
        {
          "output_type": "execute_result",
          "data": {
            "text/plain": [
              "<seaborn.axisgrid.PairGrid at 0x7f6972b35c90>"
            ]
          },
          "metadata": {},
          "execution_count": 24
        },
        {
          "output_type": "display_data",
          "data": {
            "text/plain": [
              "<Figure size 540x180 with 3 Axes>"
            ],
            "image/png": "[encoded data removed]"
          },
          "metadata": {
            "needs_background": "light"
          }
        }
      ]
    },
    {
      "cell_type": "markdown",
      "source": [
        "### Variável Dependente X Variáveis Explicativas (jointplot)"
      ],
      "metadata": {
        "id": "urZfCt0zTlB1"
      }
    },
    {
      "cell_type": "code",
      "source": [
        "ax = sns.jointplot(x=\"PF 18% ALC\", y=\"PF 18%\", data=dados, kind='reg')\n",
        "ax.fig.suptitle('Dispersão', fontsize=18, y=1.05)\n",
        "ax.set_axis_labels(\"PF 18% ALC\", \"PF 18%\", fontsize=14)\n",
        "ax\n"
      ],
      "metadata": {
        "colab": {
          "base_uri": "https://localhost:8080/",
          "height": 495
        },
        "id": "kZpDEbeCTpLj",
        "outputId": "3700acdc-64f5-4145-997b-c1533aafbfb0"
      },
      "execution_count": 25,
      "outputs": [
        {
          "output_type": "execute_result",
          "data": {
            "text/plain": [
              "<seaborn.axisgrid.JointGrid at 0x7f6972a47590>"
            ]
          },
          "metadata": {},
          "execution_count": 25
        },
        {
          "output_type": "display_data",
          "data": {
            "text/plain": [
              "<Figure size 432x432 with 3 Axes>"
            ],
            "image/png": "[encoded data removed]"
          },
          "metadata": {
            "needs_background": "light"
          }
        }
      ]
    },
    {
      "cell_type": "markdown",
      "source": [
        "# Aplicação do modelo de Regressão Linear\n",
        "\n",
        "<p style='font-size: 20px; line-height: 2; margin: 10px 50px; text-align: justify;'>A análise de regressão diz respeito ao estudo da dependência de uma variável (a variável <b>dependente</b>) em relação a uma ou mais variáveis, as variáveis explanatórias, visando estimar e/ou prever o valor médio da primeira em termos dos valores conhecidos ou fixados das segundas.</p>"
      ],
      "metadata": {
        "id": "eRMq9tcS-0aM"
      }
    },
    {
      "cell_type": "code",
      "source": [
        "from sklearn.model_selection import train_test_split"
      ],
      "metadata": {
        "id": "ZlRSvQYC25P8"
      },
      "execution_count": 26,
      "outputs": []
    },
    {
      "cell_type": "code",
      "source": [
        "y = df['PF 18% ALC']"
      ],
      "metadata": {
        "id": "xUyUL5p6ZK9E"
      },
      "execution_count": 27,
      "outputs": []
    },
    {
      "cell_type": "code",
      "source": [
        "df.columns"
      ],
      "metadata": {
        "colab": {
          "base_uri": "https://localhost:8080/"
        },
        "id": "KtsAMShpbGZq",
        "outputId": "31031cdc-3481-418a-88e1-7f13bb904039"
      },
      "execution_count": 28,
      "outputs": [
        {
          "output_type": "execute_result",
          "data": {
            "text/plain": [
              "Index(['PF Sem Impostos', 'PF 18%', 'PF 18% ALC', 'PMC 18%'], dtype='object')"
            ]
          },
          "metadata": {},
          "execution_count": 28
        }
      ]
    },
    {
      "cell_type": "code",
      "source": [
        "X = df[['PF Sem Impostos', 'PF 18%', 'PMC 18%']]"
      ],
      "metadata": {
        "id": "MqFqYBtFZQii"
      },
      "execution_count": 29,
      "outputs": []
    },
    {
      "cell_type": "code",
      "source": [
        "X_train, X_test, y_train, y_test = train_test_split(X, y, test_size=0.3, random_state=2811)"
      ],
      "metadata": {
        "id": "xeDS2KpoZbS6"
      },
      "execution_count": 30,
      "outputs": []
    },
    {
      "cell_type": "markdown",
      "source": [
        "### Verificando os tamanhos das variaveis geradas pela função train_test_split"
      ],
      "metadata": {
        "id": "lncplz8sZhfl"
      }
    },
    {
      "cell_type": "code",
      "source": [
        "X_train.shape"
      ],
      "metadata": {
        "colab": {
          "base_uri": "https://localhost:8080/"
        },
        "id": "t5az6smuZeqq",
        "outputId": "1fda07c4-adfc-45c2-c5c3-ff6ccf5d1901"
      },
      "execution_count": 31,
      "outputs": [
        {
          "output_type": "execute_result",
          "data": {
            "text/plain": [
              "(602, 3)"
            ]
          },
          "metadata": {},
          "execution_count": 31
        }
      ]
    },
    {
      "cell_type": "code",
      "source": [
        "X_test.shape"
      ],
      "metadata": {
        "colab": {
          "base_uri": "https://localhost:8080/"
        },
        "id": "cNiP8izsZ7oh",
        "outputId": "09986a3b-e0bf-4a46-bf7e-2ed37471865d"
      },
      "execution_count": 32,
      "outputs": [
        {
          "output_type": "execute_result",
          "data": {
            "text/plain": [
              "(259, 3)"
            ]
          },
          "metadata": {},
          "execution_count": 32
        }
      ]
    },
    {
      "cell_type": "code",
      "source": [
        "X_train.shape[0] + X_test.shape[0]"
      ],
      "metadata": {
        "colab": {
          "base_uri": "https://localhost:8080/"
        },
        "id": "KIvhOxcNaAxZ",
        "outputId": "83ac116e-a5df-45ac-e7ef-395c5728a80b"
      },
      "execution_count": 33,
      "outputs": [
        {
          "output_type": "execute_result",
          "data": {
            "text/plain": [
              "861"
            ]
          },
          "metadata": {},
          "execution_count": 33
        }
      ]
    },
    {
      "cell_type": "code",
      "source": [
        "X.shape[0] * 0.3"
      ],
      "metadata": {
        "colab": {
          "base_uri": "https://localhost:8080/"
        },
        "id": "YOxemPv-aCCx",
        "outputId": "0d44fe09-ebe4-403c-8b08-5b3a73c62a7f"
      },
      "execution_count": 34,
      "outputs": [
        {
          "output_type": "execute_result",
          "data": {
            "text/plain": [
              "258.3"
            ]
          },
          "metadata": {},
          "execution_count": 34
        }
      ]
    },
    {
      "cell_type": "code",
      "source": [
        "X.shape[0] * 0.7"
      ],
      "metadata": {
        "colab": {
          "base_uri": "https://localhost:8080/"
        },
        "id": "jKhTTq6XaD9J",
        "outputId": "7d686523-1be2-47c8-9f79-601c6ff1b285"
      },
      "execution_count": 35,
      "outputs": [
        {
          "output_type": "execute_result",
          "data": {
            "text/plain": [
              "602.6999999999999"
            ]
          },
          "metadata": {},
          "execution_count": 35
        }
      ]
    },
    {
      "cell_type": "markdown",
      "source": [
        "## Criando o modelo"
      ],
      "metadata": {
        "id": "G5EHm6_DaIPW"
      }
    },
    {
      "cell_type": "code",
      "source": [
        "from sklearn.linear_model import LinearRegression\n",
        "from sklearn import metrics"
      ],
      "metadata": {
        "id": "LyT937Q1aFLO"
      },
      "execution_count": 36,
      "outputs": []
    },
    {
      "cell_type": "code",
      "source": [
        "modelo = LinearRegression()"
      ],
      "metadata": {
        "id": "lW015oZKaPxB"
      },
      "execution_count": 37,
      "outputs": []
    },
    {
      "cell_type": "code",
      "source": [
        "modelo.fit(X_train, y_train)"
      ],
      "metadata": {
        "colab": {
          "base_uri": "https://localhost:8080/"
        },
        "id": "WmODmikLaRip",
        "outputId": "02b8e957-e9e3-4f49-8331-47937023d5ce"
      },
      "execution_count": 38,
      "outputs": [
        {
          "output_type": "execute_result",
          "data": {
            "text/plain": [
              "LinearRegression()"
            ]
          },
          "metadata": {},
          "execution_count": 38
        }
      ]
    },
    {
      "cell_type": "markdown",
      "source": [
        "### Obtendo o coeficiente de determinação (R²) do modelo estimado com os dados de TREINO\n",
        "\n",
        "Coeficiente de Determinação - R²\n",
        "O coeficiente de determinação (R²) é uma medida resumida que diz quanto a linha de regressão ajusta-se aos dados. É um valor entra 0 e 1.\n"
      ],
      "metadata": {
        "id": "ienZocJIaYaP"
      }
    },
    {
      "cell_type": "code",
      "source": [
        "print('R² = {}'.format(modelo.score(X_train, y_train).round(2)))"
      ],
      "metadata": {
        "colab": {
          "base_uri": "https://localhost:8080/"
        },
        "id": "Fv3yEYb9aUUS",
        "outputId": "140c45d3-bcf5-4394-85f1-4ba98791f325"
      },
      "execution_count": 39,
      "outputs": [
        {
          "output_type": "stream",
          "name": "stdout",
          "text": [
            "R² = 0.83\n"
          ]
        }
      ]
    },
    {
      "cell_type": "code",
      "source": [
        "y_previsto = modelo.predict(X_test)"
      ],
      "metadata": {
        "id": "Q_yIdcHbahyJ"
      },
      "execution_count": 40,
      "outputs": []
    },
    {
      "cell_type": "markdown",
      "source": [
        "Obtendo o coeficiente de determinação (R²) para as previsões do nosso modelo"
      ],
      "metadata": {
        "id": "7bnCzNn4aw3L"
      }
    },
    {
      "cell_type": "code",
      "source": [
        "print('R² = %s' % metrics.r2_score(y_test, y_previsto).round(2))"
      ],
      "metadata": {
        "colab": {
          "base_uri": "https://localhost:8080/"
        },
        "id": "gtRZiu1pasvp",
        "outputId": "eee5bc16-651d-4dc6-b65f-d8af41e5d11d"
      },
      "execution_count": 41,
      "outputs": [
        {
          "output_type": "stream",
          "name": "stdout",
          "text": [
            "R² = 0.63\n"
          ]
        }
      ]
    },
    {
      "cell_type": "markdown",
      "source": [
        "## Interpretação dos Coeficientes Estimados\n"
      ],
      "metadata": {
        "id": "gJo97nKybgD5"
      }
    },
    {
      "cell_type": "markdown",
      "source": [
        "O intercepto representa o efeito médio em  Y  (Preço de Fábrica 18%) tendo todas as variáveis explicativas excluídas do modelo. De forma mais simples, o intercepto representa o efeito médio em  Y  (Preço de Fábrica 18%) quando  os valores de X's é equivalente a zero."
      ],
      "metadata": {
        "id": "MOhgATY1boWj"
      }
    },
    {
      "cell_type": "code",
      "source": [
        "modelo.intercept_"
      ],
      "metadata": {
        "colab": {
          "base_uri": "https://localhost:8080/"
        },
        "id": "44u71JA6avgR",
        "outputId": "76444c54-9b8e-430e-aca8-2b8c2ff02413"
      },
      "execution_count": 42,
      "outputs": [
        {
          "output_type": "execute_result",
          "data": {
            "text/plain": [
              "10.385122327917372"
            ]
          },
          "metadata": {},
          "execution_count": 42
        }
      ]
    },
    {
      "cell_type": "markdown",
      "source": [],
      "metadata": {
        "id": "Y5NDeuNucFYN"
      }
    },
    {
      "cell_type": "markdown",
      "source": [
        "### Obtendo os coeficientes de regressão\n",
        "\n",
        "Os coeficientes de regressão  β2 ,  β3  e  β4  são conhecidos como coeficientes parciais de regressão ou coeficientes parciais angulares. Considerando o número de variáveis explicativas de nosso modelo, seu significado seria o seguinte:  β2  mede a variação no valor médio de  Y  (Preço de Fábrica em Areas Comerciais Livres), por unidade de variação em  X2  (Preço de Fábrica Sem Impostos), mantendo-se os valores de  X3  (Preço de Fabrica para a maioria dos estados brasileiros) e  X4  (Preço Máximo ao Consumidor para a maioria dos estados brasileiros) constantes. Em outras palavras, ele nos dá o efeito \"direto\" ou \"líquido\" de uma unidade de variação em  X2  sobre o valor médio de  Y , excluídos os efeitos que  X3  e  X4  possam ter sobre a média de  Y . De modo análogo podemos interpretar os demais coeficientes de regressão."
      ],
      "metadata": {
        "id": "_7HcyXmFcFee"
      }
    },
    {
      "cell_type": "code",
      "source": [
        "modelo.coef_"
      ],
      "metadata": {
        "colab": {
          "base_uri": "https://localhost:8080/"
        },
        "id": "6Btqw2GYb2vh",
        "outputId": "25f32b05-1287-489b-b30b-8e9b917221ad"
      },
      "execution_count": 43,
      "outputs": [
        {
          "output_type": "execute_result",
          "data": {
            "text/plain": [
              "array([ 6.78912498e-04,  8.34931111e-01, -6.46946088e-04])"
            ]
          },
          "metadata": {},
          "execution_count": 43
        }
      ]
    },
    {
      "cell_type": "code",
      "source": [
        "type(modelo.coef_)"
      ],
      "metadata": {
        "colab": {
          "base_uri": "https://localhost:8080/"
        },
        "id": "B_lYzlLkcPPJ",
        "outputId": "1bc1064b-6359-4b79-9dcb-09ea8f126335"
      },
      "execution_count": 44,
      "outputs": [
        {
          "output_type": "execute_result",
          "data": {
            "text/plain": [
              "numpy.ndarray"
            ]
          },
          "metadata": {},
          "execution_count": 44
        }
      ]
    },
    {
      "cell_type": "markdown",
      "source": [
        "- Criando uma lista com os nomes das variáveis do modelo"
      ],
      "metadata": {
        "id": "8B7GYVHecY9L"
      }
    },
    {
      "cell_type": "code",
      "source": [
        "X.columns"
      ],
      "metadata": {
        "colab": {
          "base_uri": "https://localhost:8080/"
        },
        "id": "HSV4sUmucezh",
        "outputId": "8900e168-0673-4456-cd59-72c3a05c9ddb"
      },
      "execution_count": 45,
      "outputs": [
        {
          "output_type": "execute_result",
          "data": {
            "text/plain": [
              "Index(['PF Sem Impostos', 'PF 18%', 'PMC 18%'], dtype='object')"
            ]
          },
          "metadata": {},
          "execution_count": 45
        }
      ]
    },
    {
      "cell_type": "code",
      "source": [
        "index=['Intercepto', 'PF Sem Impostos', 'PF 18%', 'PMC 18%']"
      ],
      "metadata": {
        "id": "chhpjI-qcg8c"
      },
      "execution_count": 56,
      "outputs": []
    },
    {
      "cell_type": "markdown",
      "source": [
        "## Criando um DataFrame para armazenar os coeficientes do modelo"
      ],
      "metadata": {
        "id": "xucGdUqkccr9"
      }
    },
    {
      "cell_type": "code",
      "source": [
        "\n",
        "pd.DataFrame(data=np.append(modelo.intercept_, modelo.coef_), index=index, columns=['Parâmetros'])"
      ],
      "metadata": {
        "colab": {
          "base_uri": "https://localhost:8080/",
          "height": 175
        },
        "id": "kE48GsGAcRoA",
        "outputId": "c847a968-1115-4186-b949-00b1384acda4"
      },
      "execution_count": 55,
      "outputs": [
        {
          "output_type": "execute_result",
          "data": {
            "text/plain": [
              "                 Parâmetros\n",
              "Intercepto        10.385122\n",
              "PF Sem Impostos    0.000679\n",
              "PF 18% ALC         0.834931\n",
              "PMC 18%           -0.000647"
            ],
            "text/html": [
              "\n",
              "  <div id=\"df-8bf40105-2690-45f4-9aa9-24f156fb55c2\">\n",
              "    <div class=\"colab-df-container\">\n",
              "      <div>\n",
              "<style scoped>\n",
              "    .dataframe tbody tr th:only-of-type {\n",
              "        vertical-align: middle;\n",
              "    }\n",
              "\n",
              "    .dataframe tbody tr th {\n",
              "        vertical-align: top;\n",
              "    }\n",
              "\n",
              "    .dataframe thead th {\n",
              "        text-align: right;\n",
              "    }\n",
              "</style>\n",
              "<table border=\"1\" class=\"dataframe\">\n",
              "  <thead>\n",
              "    <tr style=\"text-align: right;\">\n",
              "      <th></th>\n",
              "      <th>Parâmetros</th>\n",
              "    </tr>\n",
              "  </thead>\n",
              "  <tbody>\n",
              "    <tr>\n",
              "      <th>Intercepto</th>\n",
              "      <td>10.385122</td>\n",
              "    </tr>\n",
              "    <tr>\n",
              "      <th>PF Sem Impostos</th>\n",
              "      <td>0.000679</td>\n",
              "    </tr>\n",
              "    <tr>\n",
              "      <th>PF 18% ALC</th>\n",
              "      <td>0.834931</td>\n",
              "    </tr>\n",
              "    <tr>\n",
              "      <th>PMC 18%</th>\n",
              "      <td>-0.000647</td>\n",
              "    </tr>\n",
              "  </tbody>\n",
              "</table>\n",
              "</div>\n",
              "      <button class=\"colab-df-convert\" onclick=\"convertToInteractive('df-8bf40105-2690-45f4-9aa9-24f156fb55c2')\"\n",
              "              title=\"Convert this dataframe to an interactive table.\"\n",
              "              style=\"display:none;\">\n",
              "        \n",
              "  <svg xmlns=\"http://www.w3.org/2000/svg\" height=\"24px\"viewBox=\"0 0 24 24\"\n",
              "       width=\"24px\">\n",
              "    <path d=\"M0 0h24v24H0V0z\" fill=\"none\"/>\n",
              "    <path d=\"M18.56 5.44l.94 2.06.94-2.06 2.06-.94-2.06-.94-.94-2.06-.94 2.06-2.06.94zm-11 1L8.5 8.5l.94-2.06 2.06-.94-2.06-.94L8.5 2.5l-.94 2.06-2.06.94zm10 10l.94 2.06.94-2.06 2.06-.94-2.06-.94-.94-2.06-.94 2.06-2.06.94z\"/><path d=\"M17.41 7.96l-1.37-1.37c-.4-.4-.92-.59-1.43-.59-.52 0-1.04.2-1.43.59L10.3 9.45l-7.72 7.72c-.78.78-.78 2.05 0 2.83L4 21.41c.39.39.9.59 1.41.59.51 0 1.02-.2 1.41-.59l7.78-7.78 2.81-2.81c.8-.78.8-2.07 0-2.86zM5.41 20L4 18.59l7.72-7.72 1.47 1.35L5.41 20z\"/>\n",
              "  </svg>\n",
              "      </button>\n",
              "      \n",
              "  <style>\n",
              "    .colab-df-container {\n",
              "      display:flex;\n",
              "      flex-wrap:wrap;\n",
              "      gap: 12px;\n",
              "    }\n",
              "\n",
              "    .colab-df-convert {\n",
              "      background-color: #E8F0FE;\n",
              "      border: none;\n",
              "      border-radius: 50%;\n",
              "      cursor: pointer;\n",
              "      display: none;\n",
              "      fill: #1967D2;\n",
              "      height: 32px;\n",
              "      padding: 0 0 0 0;\n",
              "      width: 32px;\n",
              "    }\n",
              "\n",
              "    .colab-df-convert:hover {\n",
              "      background-color: #E2EBFA;\n",
              "      box-shadow: 0px 1px 2px rgba(60, 64, 67, 0.3), 0px 1px 3px 1px rgba(60, 64, 67, 0.15);\n",
              "      fill: #174EA6;\n",
              "    }\n",
              "\n",
              "    [theme=dark] .colab-df-convert {\n",
              "      background-color: #3B4455;\n",
              "      fill: #D2E3FC;\n",
              "    }\n",
              "\n",
              "    [theme=dark] .colab-df-convert:hover {\n",
              "      background-color: #434B5C;\n",
              "      box-shadow: 0px 1px 3px 1px rgba(0, 0, 0, 0.15);\n",
              "      filter: drop-shadow(0px 1px 2px rgba(0, 0, 0, 0.3));\n",
              "      fill: #FFFFFF;\n",
              "    }\n",
              "  </style>\n",
              "\n",
              "      <script>\n",
              "        const buttonEl =\n",
              "          document.querySelector('#df-8bf40105-2690-45f4-9aa9-24f156fb55c2 button.colab-df-convert');\n",
              "        buttonEl.style.display =\n",
              "          google.colab.kernel.accessAllowed ? 'block' : 'none';\n",
              "\n",
              "        async function convertToInteractive(key) {\n",
              "          const element = document.querySelector('#df-8bf40105-2690-45f4-9aa9-24f156fb55c2');\n",
              "          const dataTable =\n",
              "            await google.colab.kernel.invokeFunction('convertToInteractive',\n",
              "                                                     [key], {});\n",
              "          if (!dataTable) return;\n",
              "\n",
              "          const docLinkHtml = 'Like what you see? Visit the ' +\n",
              "            '<a target=\"_blank\" href=https://colab.research.google.com/notebooks/data_table.ipynb>data table notebook</a>'\n",
              "            + ' to learn more about interactive tables.';\n",
              "          element.innerHTML = '';\n",
              "          dataTable['output_type'] = 'display_data';\n",
              "          await google.colab.output.renderOutput(dataTable, element);\n",
              "          const docLink = document.createElement('div');\n",
              "          docLink.innerHTML = docLinkHtml;\n",
              "          element.appendChild(docLink);\n",
              "        }\n",
              "      </script>\n",
              "    </div>\n",
              "  </div>\n",
              "  "
            ]
          },
          "metadata": {},
          "execution_count": 55
        }
      ]
    },
    {
      "cell_type": "markdown",
      "source": [
        "Interpretação dos Coeficientes Estimados\n",
        "Intercepto → Excluindo o efeito das variáveis explicativas ( X2=X3=X4=0 ) o efeito médio no Preço de Fábrica para áreas de comércio livre seria de R$ 10,38.\n",
        "\n",
        "PF Sem Impostos → Mantendo-se os valores de  X3  (PF 18%) e  X4  (PMC 18%) constantes, o acréscimo de 1,00 real no Preço de Fábrica Sem Impostos gera uma variação média no Preço de Fábrica em áreas de comercio livre de R$ 0,00068.\n",
        "\n",
        "PF 18% → Mantendo-se os valores de  X2  (PF Sem Impostos) e  X4  (PMC 18%) constantes, o acréscimo de 1,00 no Preço de Fabrica da maioria dos estados brasileiros gera uma variação média no Preço de Fábrica em áreas de comercio livre de R$ 0,83.\n",
        "\n",
        "PMC 18% → Mantendo-se os valores de  X2  (PF Sem Impostos) e  X3  (PF 18% ) constantes, o acréscimo de 1,00 no Preço Máximo ao Consumidor da maioria dos estados brasileiros gera uma variação média no Preço de Fábrica em áreas de comercio livre de - R$ 0,00064."
      ],
      "metadata": {
        "id": "ZYeXyq5yc3jM"
      }
    },
    {
      "cell_type": "markdown",
      "source": [
        "## Criando uma previsão"
      ],
      "metadata": {
        "id": "gUS1kMWDxQ7a"
      }
    },
    {
      "cell_type": "markdown",
      "source": [
        "Deseja-se começar a produzir um certo tipo de remédio em uma das cidades pertences ao conjunto de cidades denominada área de comercio livre, nesta região a alíquota de ICMS possui proporção diferente, e portanto os preços sofrem variação em relação a demais regiões. O analista de custos deseja saber quanto deve ser o preço de fábrica de um medicamento A, se o preço do medicamento sem impostos é de 5,89 reais, e o preço de fábrica na maioria dos estados brasileiros é de 8,56 reais, e é comercializado com preço máximo de R$ 25.50 na maioria dos estados brasileiros. \n",
        "\n",
        "**Qual deve ser o preço de fábrica para o medicamento A considerando que a região é a área de comércio livre ?**\n"
      ],
      "metadata": {
        "id": "ficxATyvxV7A"
      }
    },
    {
      "cell_type": "code",
      "source": [
        "precos = [(5.89, 8.56, 25.50)]\n",
        "entrada = pd.DataFrame(precos, columns=['PF Sem Impostos', 'PF 18%', 'PMC 18%'])\n",
        "entrada"
      ],
      "metadata": {
        "colab": {
          "base_uri": "https://localhost:8080/",
          "height": 81
        },
        "id": "x8_3PCCA2ewA",
        "outputId": "e6a8e255-7507-4672-fad4-059b8e4d2dee"
      },
      "execution_count": 101,
      "outputs": [
        {
          "output_type": "execute_result",
          "data": {
            "text/plain": [
              "   PF Sem Impostos  PF 18%  PMC 18%\n",
              "0             5.89    8.56     25.5"
            ],
            "text/html": [
              "\n",
              "  <div id=\"df-538f3031-3384-4473-99c2-f155bc194a76\">\n",
              "    <div class=\"colab-df-container\">\n",
              "      <div>\n",
              "<style scoped>\n",
              "    .dataframe tbody tr th:only-of-type {\n",
              "        vertical-align: middle;\n",
              "    }\n",
              "\n",
              "    .dataframe tbody tr th {\n",
              "        vertical-align: top;\n",
              "    }\n",
              "\n",
              "    .dataframe thead th {\n",
              "        text-align: right;\n",
              "    }\n",
              "</style>\n",
              "<table border=\"1\" class=\"dataframe\">\n",
              "  <thead>\n",
              "    <tr style=\"text-align: right;\">\n",
              "      <th></th>\n",
              "      <th>PF Sem Impostos</th>\n",
              "      <th>PF 18%</th>\n",
              "      <th>PMC 18%</th>\n",
              "    </tr>\n",
              "  </thead>\n",
              "  <tbody>\n",
              "    <tr>\n",
              "      <th>0</th>\n",
              "      <td>5.89</td>\n",
              "      <td>8.56</td>\n",
              "      <td>25.5</td>\n",
              "    </tr>\n",
              "  </tbody>\n",
              "</table>\n",
              "</div>\n",
              "      <button class=\"colab-df-convert\" onclick=\"convertToInteractive('df-538f3031-3384-4473-99c2-f155bc194a76')\"\n",
              "              title=\"Convert this dataframe to an interactive table.\"\n",
              "              style=\"display:none;\">\n",
              "        \n",
              "  <svg xmlns=\"http://www.w3.org/2000/svg\" height=\"24px\"viewBox=\"0 0 24 24\"\n",
              "       width=\"24px\">\n",
              "    <path d=\"M0 0h24v24H0V0z\" fill=\"none\"/>\n",
              "    <path d=\"M18.56 5.44l.94 2.06.94-2.06 2.06-.94-2.06-.94-.94-2.06-.94 2.06-2.06.94zm-11 1L8.5 8.5l.94-2.06 2.06-.94-2.06-.94L8.5 2.5l-.94 2.06-2.06.94zm10 10l.94 2.06.94-2.06 2.06-.94-2.06-.94-.94-2.06-.94 2.06-2.06.94z\"/><path d=\"M17.41 7.96l-1.37-1.37c-.4-.4-.92-.59-1.43-.59-.52 0-1.04.2-1.43.59L10.3 9.45l-7.72 7.72c-.78.78-.78 2.05 0 2.83L4 21.41c.39.39.9.59 1.41.59.51 0 1.02-.2 1.41-.59l7.78-7.78 2.81-2.81c.8-.78.8-2.07 0-2.86zM5.41 20L4 18.59l7.72-7.72 1.47 1.35L5.41 20z\"/>\n",
              "  </svg>\n",
              "      </button>\n",
              "      \n",
              "  <style>\n",
              "    .colab-df-container {\n",
              "      display:flex;\n",
              "      flex-wrap:wrap;\n",
              "      gap: 12px;\n",
              "    }\n",
              "\n",
              "    .colab-df-convert {\n",
              "      background-color: #E8F0FE;\n",
              "      border: none;\n",
              "      border-radius: 50%;\n",
              "      cursor: pointer;\n",
              "      display: none;\n",
              "      fill: #1967D2;\n",
              "      height: 32px;\n",
              "      padding: 0 0 0 0;\n",
              "      width: 32px;\n",
              "    }\n",
              "\n",
              "    .colab-df-convert:hover {\n",
              "      background-color: #E2EBFA;\n",
              "      box-shadow: 0px 1px 2px rgba(60, 64, 67, 0.3), 0px 1px 3px 1px rgba(60, 64, 67, 0.15);\n",
              "      fill: #174EA6;\n",
              "    }\n",
              "\n",
              "    [theme=dark] .colab-df-convert {\n",
              "      background-color: #3B4455;\n",
              "      fill: #D2E3FC;\n",
              "    }\n",
              "\n",
              "    [theme=dark] .colab-df-convert:hover {\n",
              "      background-color: #434B5C;\n",
              "      box-shadow: 0px 1px 3px 1px rgba(0, 0, 0, 0.15);\n",
              "      filter: drop-shadow(0px 1px 2px rgba(0, 0, 0, 0.3));\n",
              "      fill: #FFFFFF;\n",
              "    }\n",
              "  </style>\n",
              "\n",
              "      <script>\n",
              "        const buttonEl =\n",
              "          document.querySelector('#df-538f3031-3384-4473-99c2-f155bc194a76 button.colab-df-convert');\n",
              "        buttonEl.style.display =\n",
              "          google.colab.kernel.accessAllowed ? 'block' : 'none';\n",
              "\n",
              "        async function convertToInteractive(key) {\n",
              "          const element = document.querySelector('#df-538f3031-3384-4473-99c2-f155bc194a76');\n",
              "          const dataTable =\n",
              "            await google.colab.kernel.invokeFunction('convertToInteractive',\n",
              "                                                     [key], {});\n",
              "          if (!dataTable) return;\n",
              "\n",
              "          const docLinkHtml = 'Like what you see? Visit the ' +\n",
              "            '<a target=\"_blank\" href=https://colab.research.google.com/notebooks/data_table.ipynb>data table notebook</a>'\n",
              "            + ' to learn more about interactive tables.';\n",
              "          element.innerHTML = '';\n",
              "          dataTable['output_type'] = 'display_data';\n",
              "          await google.colab.output.renderOutput(dataTable, element);\n",
              "          const docLink = document.createElement('div');\n",
              "          docLink.innerHTML = docLinkHtml;\n",
              "          element.appendChild(docLink);\n",
              "        }\n",
              "      </script>\n",
              "    </div>\n",
              "  </div>\n",
              "  "
            ]
          },
          "metadata": {},
          "execution_count": 101
        }
      ]
    },
    {
      "cell_type": "code",
      "source": [
        "y_previsto = modelo.predict(entrada)\n",
        "y_previsto"
      ],
      "metadata": {
        "colab": {
          "base_uri": "https://localhost:8080/"
        },
        "id": "sJ-l1FdPxUNk",
        "outputId": "3b603e68-5713-4a6b-e1c3-f697ed64b6bc"
      },
      "execution_count": 102,
      "outputs": [
        {
          "output_type": "execute_result",
          "data": {
            "text/plain": [
              "array([17.51963431])"
            ]
          },
          "metadata": {},
          "execution_count": 102
        }
      ]
    },
    {
      "cell_type": "markdown",
      "source": [
        "O preço de fábrica previsto para o medicamento A em regiões de comércio livre é de R$ 17,52."
      ],
      "metadata": {
        "id": "tma22H7J6IDK"
      }
    },
    {
      "cell_type": "markdown",
      "source": [
        "## Análises Gráficas das Previsões do Modelo"
      ],
      "metadata": {
        "id": "mO_N_1AY8fzc"
      }
    },
    {
      "cell_type": "code",
      "source": [
        "y_previsto_train = modelo.predict(X_train)\n",
        "residuo = y_train - y_previsto_train"
      ],
      "metadata": {
        "id": "JbalAfEDxCYC"
      },
      "execution_count": 57,
      "outputs": []
    },
    {
      "cell_type": "code",
      "source": [
        "#Plotando a distribuição de frequência dos resíduos\n",
        "ax = sns.distplot(residuo)\n",
        "ax.figure.set_size_inches(12, 6)\n",
        "ax.set_title('Distribuição de Frequências dos Resíduos', fontsize=18)\n",
        "ax.set_xlabel('Litros', fontsize=14)\n",
        "ax"
      ],
      "metadata": {
        "colab": {
          "base_uri": "https://localhost:8080/",
          "height": 485
        },
        "id": "P5rGGLSf9cNu",
        "outputId": "2f48b4d1-19cc-46d8-bcc0-b7b440cf480a"
      },
      "execution_count": 52,
      "outputs": [
        {
          "output_type": "stream",
          "name": "stderr",
          "text": [
            "/usr/local/lib/python3.7/dist-packages/seaborn/distributions.py:2619: FutureWarning: `distplot` is a deprecated function and will be removed in a future version. Please adapt your code to use either `displot` (a figure-level function with similar flexibility) or `histplot` (an axes-level function for histograms).\n",
            "  warnings.warn(msg, FutureWarning)\n"
          ]
        },
        {
          "output_type": "execute_result",
          "data": {
            "text/plain": [
              "<matplotlib.axes._subplots.AxesSubplot at 0x7f69713d92d0>"
            ]
          },
          "metadata": {},
          "execution_count": 52
        },
        {
          "output_type": "display_data",
          "data": {
            "text/plain": [
              "<Figure size 864x432 with 1 Axes>"
            ],
            "image/png": "[encoded data removed]"
          },
          "metadata": {
            "needs_background": "light"
          }
        }
      ]
    },
    {
      "cell_type": "markdown",
      "source": [
        "# Métricas"
      ],
      "metadata": {
        "id": "YwvoTaxo9y7C"
      }
    },
    {
      "cell_type": "markdown",
      "source": [
        "\n",
        "Algumas estatísticas obtidas do modelo de regressão são muito úteis como critério de comparação entre modelos estimados e de seleção do melhor modelo, as principais métricas de regressão que o scikit-learn disponibiliza para modelos lineares são as seguintes:\n",
        "\n",
        "  ### Erro Quadrático Médio\n",
        "\n",
        "Média dos quadrados dos erros. Ajustes melhores apresentam $EQM$ mais baixo.\n",
        "\n",
        "$$EQM(y, \\hat{y}) = \\frac 1n\\sum_{i=0}^{n-1}(y_i-\\hat{y}_i)^2$$\n",
        "\n",
        "  ### Raíz do Erro Quadrático Médio\n",
        "\n",
        "Raíz quadrada da média dos quadrados dos erros. Ajustes melhores apresentam $\\sqrt{EQM}$ mais baixo.\n",
        "\n",
        "\n"
      ],
      "metadata": {
        "id": "tM9u3oWU95d8"
      }
    },
    {
      "cell_type": "code",
      "source": [
        "EQM = metrics.mean_squared_error(y_test, y_previsto).round(2)\n",
        "REQM = np.sqrt(metrics.mean_squared_error(y_test, y_previsto)).round(2)\n",
        "R2 = metrics.r2_score(y_test, y_previsto).round(2)\n",
        "\n",
        "pd.DataFrame([EQM, REQM, R2], ['EQM', 'REQM', 'R²'], columns=['Métricas'])"
      ],
      "metadata": {
        "colab": {
          "base_uri": "https://localhost:8080/",
          "height": 143
        },
        "id": "JkvU4KGR9og9",
        "outputId": "0638e31d-6daf-4efa-96ed-0b4803e26a0c"
      },
      "execution_count": 53,
      "outputs": [
        {
          "output_type": "execute_result",
          "data": {
            "text/plain": [
              "       Métricas\n",
              "EQM   661128.55\n",
              "REQM     813.10\n",
              "R²         0.63"
            ],
            "text/html": [
              "\n",
              "  <div id=\"df-d473c476-fe14-43fc-8c19-b75e001c6ae3\">\n",
              "    <div class=\"colab-df-container\">\n",
              "      <div>\n",
              "<style scoped>\n",
              "    .dataframe tbody tr th:only-of-type {\n",
              "        vertical-align: middle;\n",
              "    }\n",
              "\n",
              "    .dataframe tbody tr th {\n",
              "        vertical-align: top;\n",
              "    }\n",
              "\n",
              "    .dataframe thead th {\n",
              "        text-align: right;\n",
              "    }\n",
              "</style>\n",
              "<table border=\"1\" class=\"dataframe\">\n",
              "  <thead>\n",
              "    <tr style=\"text-align: right;\">\n",
              "      <th></th>\n",
              "      <th>Métricas</th>\n",
              "    </tr>\n",
              "  </thead>\n",
              "  <tbody>\n",
              "    <tr>\n",
              "      <th>EQM</th>\n",
              "      <td>661128.55</td>\n",
              "    </tr>\n",
              "    <tr>\n",
              "      <th>REQM</th>\n",
              "      <td>813.10</td>\n",
              "    </tr>\n",
              "    <tr>\n",
              "      <th>R²</th>\n",
              "      <td>0.63</td>\n",
              "    </tr>\n",
              "  </tbody>\n",
              "</table>\n",
              "</div>\n",
              "      <button class=\"colab-df-convert\" onclick=\"convertToInteractive('df-d473c476-fe14-43fc-8c19-b75e001c6ae3')\"\n",
              "              title=\"Convert this dataframe to an interactive table.\"\n",
              "              style=\"display:none;\">\n",
              "        \n",
              "  <svg xmlns=\"http://www.w3.org/2000/svg\" height=\"24px\"viewBox=\"0 0 24 24\"\n",
              "       width=\"24px\">\n",
              "    <path d=\"M0 0h24v24H0V0z\" fill=\"none\"/>\n",
              "    <path d=\"M18.56 5.44l.94 2.06.94-2.06 2.06-.94-2.06-.94-.94-2.06-.94 2.06-2.06.94zm-11 1L8.5 8.5l.94-2.06 2.06-.94-2.06-.94L8.5 2.5l-.94 2.06-2.06.94zm10 10l.94 2.06.94-2.06 2.06-.94-2.06-.94-.94-2.06-.94 2.06-2.06.94z\"/><path d=\"M17.41 7.96l-1.37-1.37c-.4-.4-.92-.59-1.43-.59-.52 0-1.04.2-1.43.59L10.3 9.45l-7.72 7.72c-.78.78-.78 2.05 0 2.83L4 21.41c.39.39.9.59 1.41.59.51 0 1.02-.2 1.41-.59l7.78-7.78 2.81-2.81c.8-.78.8-2.07 0-2.86zM5.41 20L4 18.59l7.72-7.72 1.47 1.35L5.41 20z\"/>\n",
              "  </svg>\n",
              "      </button>\n",
              "      \n",
              "  <style>\n",
              "    .colab-df-container {\n",
              "      display:flex;\n",
              "      flex-wrap:wrap;\n",
              "      gap: 12px;\n",
              "    }\n",
              "\n",
              "    .colab-df-convert {\n",
              "      background-color: #E8F0FE;\n",
              "      border: none;\n",
              "      border-radius: 50%;\n",
              "      cursor: pointer;\n",
              "      display: none;\n",
              "      fill: #1967D2;\n",
              "      height: 32px;\n",
              "      padding: 0 0 0 0;\n",
              "      width: 32px;\n",
              "    }\n",
              "\n",
              "    .colab-df-convert:hover {\n",
              "      background-color: #E2EBFA;\n",
              "      box-shadow: 0px 1px 2px rgba(60, 64, 67, 0.3), 0px 1px 3px 1px rgba(60, 64, 67, 0.15);\n",
              "      fill: #174EA6;\n",
              "    }\n",
              "\n",
              "    [theme=dark] .colab-df-convert {\n",
              "      background-color: #3B4455;\n",
              "      fill: #D2E3FC;\n",
              "    }\n",
              "\n",
              "    [theme=dark] .colab-df-convert:hover {\n",
              "      background-color: #434B5C;\n",
              "      box-shadow: 0px 1px 3px 1px rgba(0, 0, 0, 0.15);\n",
              "      filter: drop-shadow(0px 1px 2px rgba(0, 0, 0, 0.3));\n",
              "      fill: #FFFFFF;\n",
              "    }\n",
              "  </style>\n",
              "\n",
              "      <script>\n",
              "        const buttonEl =\n",
              "          document.querySelector('#df-d473c476-fe14-43fc-8c19-b75e001c6ae3 button.colab-df-convert');\n",
              "        buttonEl.style.display =\n",
              "          google.colab.kernel.accessAllowed ? 'block' : 'none';\n",
              "\n",
              "        async function convertToInteractive(key) {\n",
              "          const element = document.querySelector('#df-d473c476-fe14-43fc-8c19-b75e001c6ae3');\n",
              "          const dataTable =\n",
              "            await google.colab.kernel.invokeFunction('convertToInteractive',\n",
              "                                                     [key], {});\n",
              "          if (!dataTable) return;\n",
              "\n",
              "          const docLinkHtml = 'Like what you see? Visit the ' +\n",
              "            '<a target=\"_blank\" href=https://colab.research.google.com/notebooks/data_table.ipynb>data table notebook</a>'\n",
              "            + ' to learn more about interactive tables.';\n",
              "          element.innerHTML = '';\n",
              "          dataTable['output_type'] = 'display_data';\n",
              "          await google.colab.output.renderOutput(dataTable, element);\n",
              "          const docLink = document.createElement('div');\n",
              "          docLink.innerHTML = docLinkHtml;\n",
              "          element.appendChild(docLink);\n",
              "        }\n",
              "      </script>\n",
              "    </div>\n",
              "  </div>\n",
              "  "
            ]
          },
          "metadata": {},
          "execution_count": 53
        }
      ]
    },
    {
      "cell_type": "markdown",
      "source": [
        "O erro quadratico medio, e a sua raiz deveriam ser minimizados, mas esta dentro de um patamar aceitavel para nosso contexto de negocio.\n",
        "Coeficiente de determinacao (R2) de teste de 63%."
      ],
      "metadata": {
        "id": "tv_9YzDQwom3"
      }
    }
  ]
}